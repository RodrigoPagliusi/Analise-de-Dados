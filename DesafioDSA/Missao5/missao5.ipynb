{
 "cells": [
  {
   "cell_type": "markdown",
   "metadata": {},
   "source": [
    "# <font color='blue'>Data Science Academy - Python Fundamentos - Capítulo 7</font>\n",
    "\n",
    "## Download: http://github.com/dsacademybr"
   ]
  },
  {
   "cell_type": "code",
   "execution_count": 1,
   "metadata": {},
   "outputs": [
    {
     "name": "stdout",
     "output_type": "stream",
     "text": [
      "Versão da Linguagem Python Usada Neste Jupyter Notebook: 3.9.12\n"
     ]
    }
   ],
   "source": [
    "# Versão da Linguagem Python\n",
    "from platform import python_version\n",
    "print('Versão da Linguagem Python Usada Neste Jupyter Notebook:', python_version())"
   ]
  },
  {
   "cell_type": "markdown",
   "metadata": {},
   "source": [
    "## Missão: Analisar o Comportamento de Compra de Consumidores."
   ]
  },
  {
   "cell_type": "markdown",
   "metadata": {},
   "source": [
    "## Nível de Dificuldade: Alto"
   ]
  },
  {
   "cell_type": "markdown",
   "metadata": {},
   "source": [
    "Você recebeu a tarefa de analisar os dados de compras de um web site! Os dados estão no formato JSON e disponíveis junto com este notebook.\n",
    "\n",
    "No site, cada usuário efetua login usando sua conta pessoal e pode adquirir produtos à medida que navega pela lista de produtos oferecidos. Cada produto possui um valor de venda. Dados de idade e sexo de cada usuário foram coletados e estão fornecidos no arquivo JSON.\n",
    "\n",
    "Seu trabalho é entregar uma análise de comportamento de compra dos consumidores. Esse é um tipo de atividade comum realizado por Cientistas de Dados e o resultado deste trabalho pode ser usado, por exemplo, para alimentar um modelo de Machine Learning e fazer previsões sobre comportamentos futuros.\n",
    "\n",
    "Mas nesta missão você vai analisar o comportamento de compra dos consumidores usando o pacote Pandas da linguagem Python e seu relatório final deve incluir cada um dos seguintes itens:\n",
    "\n",
    "** Contagem de Consumidores **\n",
    "\n",
    "* Número total de consumidores\n",
    "\n",
    "\n",
    "** Análise Geral de Compras **\n",
    "\n",
    "* Número de itens exclusivos\n",
    "* Preço médio de compra\n",
    "* Número total de compras\n",
    "* Rendimento total\n",
    "\n",
    "\n",
    "** Informações Demográficas Por Gênero **\n",
    "\n",
    "* Porcentagem e contagem de compradores masculinos\n",
    "* Porcentagem e contagem de compradores do sexo feminino\n",
    "* Porcentagem e contagem de outros / não divulgados\n",
    "\n",
    "\n",
    "** Análise de Compras Por Gênero **\n",
    "\n",
    "* Número de compras\n",
    "* Preço médio de compra\n",
    "* Valor Total de Compra\n",
    "* Compras for faixa etária\n",
    "\n",
    "\n",
    "** Identifique os 5 principais compradores pelo valor total de compra e, em seguida, liste (em uma tabela): **\n",
    "\n",
    "* Login\n",
    "* Número de compras\n",
    "* Preço médio de compra\n",
    "* Valor Total de Compra\n",
    "* Itens mais populares\n",
    "\n",
    "\n",
    "** Identifique os 5 itens mais populares por contagem de compras e, em seguida, liste (em uma tabela): **\n",
    "\n",
    "* ID do item\n",
    "* Nome do item\n",
    "* Número de compras\n",
    "* Preço do item\n",
    "* Valor Total de Compra\n",
    "* Itens mais lucrativos\n",
    "\n",
    "\n",
    "** Identifique os 5 itens mais lucrativos pelo valor total de compra e, em seguida, liste (em uma tabela): **\n",
    "\n",
    "* ID do item\n",
    "* Nome do item\n",
    "* Número de compras\n",
    "* Preço do item\n",
    "* Valor Total de Compra\n",
    "\n",
    "\n",
    "** Como considerações finais: **\n",
    "\n",
    "* Seu script deve funcionar para o conjunto de dados fornecido.\n",
    "* Você deve usar a Biblioteca Pandas e o Jupyter Notebook.\n"
   ]
  },
  {
   "cell_type": "code",
   "execution_count": 2,
   "metadata": {},
   "outputs": [],
   "source": [
    "# Imports\n",
    "import pandas as pd\n",
    "import numpy as np\n",
    "import operator\n",
    "import tabulate\n",
    "from tabulate import tabulate"
   ]
  },
  {
   "cell_type": "code",
   "execution_count": 3,
   "metadata": {},
   "outputs": [
    {
     "data": {
      "text/html": [
       "<div>\n",
       "<style scoped>\n",
       "    .dataframe tbody tr th:only-of-type {\n",
       "        vertical-align: middle;\n",
       "    }\n",
       "\n",
       "    .dataframe tbody tr th {\n",
       "        vertical-align: top;\n",
       "    }\n",
       "\n",
       "    .dataframe thead th {\n",
       "        text-align: right;\n",
       "    }\n",
       "</style>\n",
       "<table border=\"1\" class=\"dataframe\">\n",
       "  <thead>\n",
       "    <tr style=\"text-align: right;\">\n",
       "      <th></th>\n",
       "      <th>Login</th>\n",
       "      <th>Idade</th>\n",
       "      <th>Sexo</th>\n",
       "      <th>Item ID</th>\n",
       "      <th>Nome do Item</th>\n",
       "      <th>Valor</th>\n",
       "    </tr>\n",
       "  </thead>\n",
       "  <tbody>\n",
       "    <tr>\n",
       "      <th>0</th>\n",
       "      <td>Aelalis34</td>\n",
       "      <td>38</td>\n",
       "      <td>Masculino</td>\n",
       "      <td>165</td>\n",
       "      <td>Bone Crushing Silver Skewer</td>\n",
       "      <td>3.37</td>\n",
       "    </tr>\n",
       "    <tr>\n",
       "      <th>1</th>\n",
       "      <td>Eolo46</td>\n",
       "      <td>21</td>\n",
       "      <td>Masculino</td>\n",
       "      <td>119</td>\n",
       "      <td>Stormbringer, Dark Blade of Ending Misery</td>\n",
       "      <td>2.32</td>\n",
       "    </tr>\n",
       "    <tr>\n",
       "      <th>2</th>\n",
       "      <td>Assastnya25</td>\n",
       "      <td>34</td>\n",
       "      <td>Masculino</td>\n",
       "      <td>174</td>\n",
       "      <td>Primitive Blade</td>\n",
       "      <td>2.46</td>\n",
       "    </tr>\n",
       "    <tr>\n",
       "      <th>3</th>\n",
       "      <td>Pheusrical25</td>\n",
       "      <td>21</td>\n",
       "      <td>Masculino</td>\n",
       "      <td>92</td>\n",
       "      <td>Final Critic</td>\n",
       "      <td>1.36</td>\n",
       "    </tr>\n",
       "    <tr>\n",
       "      <th>4</th>\n",
       "      <td>Aela59</td>\n",
       "      <td>23</td>\n",
       "      <td>Masculino</td>\n",
       "      <td>63</td>\n",
       "      <td>Stormfury Mace</td>\n",
       "      <td>1.27</td>\n",
       "    </tr>\n",
       "  </tbody>\n",
       "</table>\n",
       "</div>"
      ],
      "text/plain": [
       "          Login  Idade       Sexo  Item ID  \\\n",
       "0     Aelalis34     38  Masculino      165   \n",
       "1        Eolo46     21  Masculino      119   \n",
       "2   Assastnya25     34  Masculino      174   \n",
       "3  Pheusrical25     21  Masculino       92   \n",
       "4        Aela59     23  Masculino       63   \n",
       "\n",
       "                                Nome do Item  Valor  \n",
       "0                Bone Crushing Silver Skewer   3.37  \n",
       "1  Stormbringer, Dark Blade of Ending Misery   2.32  \n",
       "2                            Primitive Blade   2.46  \n",
       "3                               Final Critic   1.36  \n",
       "4                             Stormfury Mace   1.27  "
      ]
     },
     "execution_count": 3,
     "metadata": {},
     "output_type": "execute_result"
    }
   ],
   "source": [
    "# Carrega o arquivo\n",
    "load_file = \"dados_compras.json\"\n",
    "purchase_file = pd.read_json(load_file, orient = \"records\")\n",
    "purchase_file.head()"
   ]
  },
  {
   "cell_type": "markdown",
   "metadata": {},
   "source": [
    "## Informações Sobre os Consumidores"
   ]
  },
  {
   "cell_type": "code",
   "execution_count": null,
   "metadata": {},
   "outputs": [],
   "source": [
    "n_consumidores = purchase_file['Login'].nunique()\n",
    "print('Registrados no sistema, há',n_consumidores,'consumidores diferentes.')"
   ]
  },
  {
   "cell_type": "markdown",
   "metadata": {},
   "source": [
    "## Análise Geral de Compras"
   ]
  },
  {
   "cell_type": "code",
   "execution_count": null,
   "metadata": {},
   "outputs": [],
   "source": [
    "# Implemente aqui sua solução\n",
    "n_itens = purchase_file['Item ID'].nunique()\n",
    "print('Registrados no sistema, há',n_itens,'itens exclusivos.')\n",
    "media_valor = purchase_file['Valor'].mean()\n",
    "print('A média do preço de compra é igual a R$' + str(round((media_valor)*100, 1)) + '.')\n",
    "total_transacoes = purchase_file['Valor'].count()\n",
    "print('Foram efetuadas o total de', total_transacoes,'transações.')\n",
    "rendimento_total = purchase_file['Valor'].sum()\n",
    "print('O rendimento total é igual a R$' + str(round((rendimento_total)*100, 1)) + '.')"
   ]
  },
  {
   "cell_type": "markdown",
   "metadata": {},
   "source": [
    "## Análise Demográfica"
   ]
  },
  {
   "cell_type": "code",
   "execution_count": null,
   "metadata": {},
   "outputs": [],
   "source": [
    "# Implemente aqui sua solução\n",
    "unicos = purchase_file.drop_duplicates(subset = \"Login\")\n",
    "c_unicos = unicos['Login'].count()\n",
    "\n",
    "print('O número de compradores do é igual a ' + str(c_unicos) + '.')"
   ]
  },
  {
   "cell_type": "markdown",
   "metadata": {},
   "source": [
    "## Informações Demográficas Por Gênero"
   ]
  },
  {
   "cell_type": "code",
   "execution_count": null,
   "metadata": {},
   "outputs": [],
   "source": [
    "# Implemente aqui sua solução\n",
    "masc = (unicos['Sexo']=='Masculino').sum()\n",
    "fem = (unicos['Sexo']=='Feminino').sum()\n",
    "outros = (unicos['Sexo']=='Outro / Não Divulgado').sum()\n",
    "print('O número de compradores do sexo masculino é igual a ' + str(masc) + ', o que corresponde a',round((masc/c_unicos)*100, 1),'% do total de compradores.')\n",
    "print('O número de compradores do sexo feminino é igual a ' + str(fem) + ', o que corresponde a',round((fem/c_unicos)*100, 1),'% do total de compradores.')\n",
    "print('O número de compradores do sexo Outros / Não Divulgado é igual a ' + str(outros) + ', o que corresponde a',round((outros/c_unicos)*100, 1),'% do total de compradores.')"
   ]
  },
  {
   "cell_type": "markdown",
   "metadata": {},
   "source": [
    "## Análise de Compras Por Gênero"
   ]
  },
  {
   "cell_type": "code",
   "execution_count": null,
   "metadata": {},
   "outputs": [],
   "source": [
    "# Implemente aqui sua solução\n",
    "masc_compras = (purchase_file['Sexo']=='Masculino').sum()\n",
    "print('O número total de compras realizadas por pessoas do sexo Masculino é igual a',masc_compras)\n",
    "fem_compras = (purchase_file['Sexo']=='Feminino').sum()\n",
    "print('O número total de compras realizadas por pessoas do sexo Feminino é igual a',fem_compras)\n",
    "outros_compras = (purchase_file['Sexo']=='Outro / Não Divulgado').sum()\n",
    "print('O número total de compras realizadas por pessoas do sexo Outros / Não Divulgado é igual a',outros_compras)\n",
    "machos = purchase_file.loc[purchase_file['Sexo'] == 'Masculino']\n",
    "print('Para compradores do sexo Masculino, o preço médio de compra é de R$'+str(round(machos['Valor'].mean(), 2)))\n",
    "femeas = purchase_file.loc[purchase_file['Sexo'] == 'Feminino']\n",
    "print('Para compradores do sexo Feminino, o preço médio de compra é de R$'+str(round(femeas['Valor'].mean(), 2)))\n",
    "n_iden = purchase_file.loc[purchase_file['Sexo'] == 'Outro / Não Divulgado']\n",
    "print('Para compradores do sexo Outro / Não Divulgado, o preço médio de compra é de R$'+str(round(n_iden['Valor'].mean(), 2)))\n",
    "print('Para compradores do sexo Masculino, o valor total de compra é de R$'+str(round(machos['Valor'].sum(), 2)))\n",
    "print('Para compradores do sexo Feminino, o valor total de compra é de R$'+str(round(femeas['Valor'].sum(), 2)))\n",
    "print('Para compradores do sexo Outro / Não Divulgado, o valor total de compra é de R$'+str(round(n_iden['Valor'].sum(), 2)))\n",
    "print('O número total de compras feitas por pessoas do sexo masculino na faixa de 5 a 11 anos é:',machos['Idade'][(machos['Idade'] >= 5) & (machos['Idade'] <= 11)].count())\n",
    "print('O número total de compras feitas por pessoas do sexo masculino na faixa de 11 a 19 anos é:',machos['Idade'][(machos['Idade'] > 11) & (machos['Idade'] <= 19)].count())\n",
    "print('O número total de compras feitas por pessoas do sexo masculino na faixa de 19 a 26 anos é:',machos['Idade'][(machos['Idade'] > 19) & (machos['Idade'] <= 26)].count())\n",
    "print('O número total de compras feitas por pessoas do sexo masculino na faixa de 26 a 40 anos é:',machos['Idade'][(machos['Idade'] > 26) & (machos['Idade'] <= 40)].count())\n",
    "print('O número total de compras feitas por pessoas do sexo masculino na faixa de 40 a 50 anos é:',machos['Idade'][(machos['Idade'] > 40) & (machos['Idade'] <= 50)].count())\n",
    "print('O número total de compras feitas por pessoas do sexo feminino na faixa de 5 a 11 anos é:',femeas['Idade'][(femeas['Idade'] >= 5) & (femeas['Idade'] <= 11)].count())\n",
    "print('O número total de compras feitas por pessoas do sexo feminino na faixa de 11 a 19 anos é:',femeas['Idade'][(femeas['Idade'] > 11) & (femeas['Idade'] <= 19)].count())\n",
    "print('O número total de compras feitas por pessoas do sexo feminino na faixa de 19 a 26 anos é:',femeas['Idade'][(femeas['Idade'] > 19) & (femeas['Idade'] <= 26)].count())\n",
    "print('O número total de compras feitas por pessoas do sexo feminino na faixa de 26 a 40 anos é:',femeas['Idade'][(femeas['Idade'] > 26) & (femeas['Idade'] <= 40)].count())\n",
    "print('O número total de compras feitas por pessoas do sexo feminino na faixa de 40 a 50 anos é:',femeas['Idade'][(femeas['Idade'] > 40) & (femeas['Idade'] <= 50)].count())\n",
    "print('O número total de compras feitas por pessoas do sexo Outro / Não Divulgado na faixa de 5 a 11 anos é:',n_iden['Idade'][(n_iden['Idade'] >= 5) & (n_iden['Idade'] <= 11)].count())\n",
    "print('O número total de compras feitas por pessoas do sexo Outro / Não Divulgado na faixa de 11 a 19 anos é:',n_iden['Idade'][(n_iden['Idade'] > 11) & (n_iden['Idade'] <= 19)].count())\n",
    "print('O número total de compras feitas por pessoas do sexo Outro / Não Divulgado na faixa de 19 a 26 anos é:',n_iden['Idade'][(n_iden['Idade'] > 19) & (n_iden['Idade'] <= 26)].count())\n",
    "print('O número total de compras feitas por pessoas do sexo Outro / Não Divulgado na faixa de 26 a 40 anos é:',n_iden['Idade'][(n_iden['Idade'] > 26) & (n_iden['Idade'] <= 40)].count())\n",
    "print('O número total de compras feitas por pessoas do sexo Outro / Não Divulgado na faixa de 40 a 50 anos é:',n_iden['Idade'][(n_iden['Idade'] > 40) & (n_iden['Idade'] <= 50)].count())"
   ]
  },
  {
   "cell_type": "markdown",
   "metadata": {},
   "source": [
    "## Consumidores Mais Populares (Top 5)"
   ]
  },
  {
   "cell_type": "code",
   "execution_count": 4,
   "metadata": {
    "scrolled": false
   },
   "outputs": [
    {
     "name": "stdout",
     "output_type": "stream",
     "text": [
      "Final = {'Undirrala66': 17.06, 'Saedue76': 13.56, 'Mindimnya67': 12.74, 'Haellysu29': 12.73, 'Eoda93': 11.58}\n"
     ]
    }
   ],
   "source": [
    "# Implemente aqui sua solução\n",
    "consumidores = purchase_file['Login'].unique() ; cinco_mais = {}\n",
    "for c in consumidores:\n",
    "    valor_total = round(purchase_file['Valor'][(purchase_file['Login'] == c)].sum(),2)\n",
    "    # print(str(i) + ' - O consumidor cujo login é ' + c + ' gastou no total R$' + str(valor_total))\n",
    "    if len(cinco_mais) < 5: cinco_mais[c] = valor_total ; continue\n",
    "    #print('Valor Total =',valor_total)\n",
    "    for ci in cinco_mais:\n",
    "        #print('sorted =',cinco_mais[ci])\n",
    "        if valor_total > cinco_mais[ci]:\n",
    "            cinco_mais[c] = valor_total\n",
    "            pop = cinco_mais.pop(min(cinco_mais, key=cinco_mais.get))\n",
    "            break\n",
    "    #print(cinco_mais)\n",
    "sorted_cinco_mais = dict(sorted(cinco_mais.items(), key=operator.itemgetter(1),reverse = True))\n",
    "print('Final =',sorted_cinco_mais)\n",
    "# Criar outro DataFrame para as listas"
   ]
  },
  {
   "cell_type": "code",
   "execution_count": 6,
   "metadata": {},
   "outputs": [
    {
     "name": "stdout",
     "output_type": "stream",
     "text": [
      "O total de compras de Undirrala66 é igual a 5\n",
      "O total de compras de Saedue76 é igual a 4\n",
      "O total de compras de Mindimnya67 é igual a 4\n",
      "O total de compras de Haellysu29 é igual a 3\n",
      "O total de compras de Eoda93 é igual a 3\n",
      "O preço médio de compra de Undirrala66 é igual a R$3.41.\n",
      "O preço médio de compra de Saedue76 é igual a R$3.39.\n",
      "O preço médio de compra de Mindimnya67 é igual a R$3.18.\n",
      "O preço médio de compra de Haellysu29 é igual a R$4.24.\n",
      "O preço médio de compra de Eoda93 é igual a R$3.86.\n",
      "O valor total de compra de Undirrala66 é igual a R$17.06\n",
      "O valor total de compra de Saedue76 é igual a R$13.56\n",
      "O valor total de compra de Mindimnya67 é igual a R$12.74\n",
      "O valor total de compra de Haellysu29 é igual a R$12.73\n",
      "O valor total de compra de Eoda93 é igual a R$11.58\n",
      "tabela = [['Undirrala66', 5, '3.41', '17.06'], ['Saedue76', 4, '3.39', '13.56'], ['Mindimnya67', 4, '3.18', '12.74'], ['Haellysu29', 3, '4.24', '12.73'], ['Eoda93', 3, '3.86', '11.58']]\n",
      "moda =  15      Blood-Forged Skeletal Spine\n",
      "79           Blood Infused Guardian\n",
      "107      Spectral Diamond Doomblade\n",
      "108        Heartless Bone Dualblade\n",
      "131                     Piece Maker\n",
      "166             Stormfury Longsword\n",
      "259                        Serenity\n",
      "337                         Striker\n",
      "381             Thirsty Iron Reaver\n",
      "411    Thorn, Satchel of Dark Souls\n",
      "450                         Striker\n",
      "464            Thunderfury Scimitar\n",
      "488        Haunted Bronzed Bludgeon\n",
      "537      Torchlight, Bond of Storms\n",
      "592            Fiery Glass Crusader\n",
      "596                Faith's Scimitar\n",
      "623                          Devine\n",
      "659                         Celeste\n",
      "708                     Ritual Mace\n",
      "Name: Nome do Item, dtype: object\n",
      "um = Blood Infused Guardian\n",
      "['Undirrala66', 'Saedue76', 'Mindimnya67', 'Haellysu29', 'Eoda93']\n",
      "[17.06, 13.56, 12.74, 12.73, 11.58]\n",
      "+----+-------------+----------------------+--------------------------+--------------------------+\n",
      "|    | Login       |   Números de Compras |   Preço Médio de Compras |   Valor Total de Compras |\n",
      "+====+=============+======================+==========================+==========================+\n",
      "|  0 | Undirrala66 |                    5 |                     3.41 |                    17.06 |\n",
      "+----+-------------+----------------------+--------------------------+--------------------------+\n",
      "|  1 | Saedue76    |                    4 |                     3.39 |                    13.56 |\n",
      "+----+-------------+----------------------+--------------------------+--------------------------+\n",
      "|  2 | Mindimnya67 |                    4 |                     3.18 |                    12.74 |\n",
      "+----+-------------+----------------------+--------------------------+--------------------------+\n",
      "|  3 | Haellysu29  |                    3 |                     4.24 |                    12.73 |\n",
      "+----+-------------+----------------------+--------------------------+--------------------------+\n",
      "|  4 | Eoda93      |                    3 |                     3.86 |                    11.58 |\n",
      "+----+-------------+----------------------+--------------------------+--------------------------+\n"
     ]
    }
   ],
   "source": [
    "final = list(sorted_cinco_mais)\n",
    "tabela = [[],[],[],[],[]]\n",
    "for f in range(len(final)):\n",
    "    tabela[f].append(final[f])\n",
    "lista_maiores = list(sorted_cinco_mais.keys())\n",
    "maiores = purchase_file[(purchase_file.Login == lista_maiores[0]) | \\\n",
    "                        (purchase_file.Login == lista_maiores[1]) | \\\n",
    "                        (purchase_file.Login == lista_maiores[2]) | \\\n",
    "                        (purchase_file.Login == lista_maiores[3]) | \\\n",
    "                        (purchase_file.Login == lista_maiores[4])]\n",
    "c = -1\n",
    "for i in lista_maiores:\n",
    "    c += 1\n",
    "    print('O total de compras de ' + i + ' é igual a',maiores['Login'][maiores.Login == i].count())\n",
    "    tabela[c].append(maiores['Login'][maiores.Login == i].count())\n",
    "c = -1\n",
    "for i in lista_maiores:\n",
    "    c += 1\n",
    "    print('O preço médio de compra de '+ i + ' é igual a R$' + str(round(maiores['Valor'][maiores.Login == i].mean(),2)) + '.')\n",
    "    tabela[c].append(str(round(maiores['Valor'][maiores.Login == i].mean(),2)))\n",
    "c = -1\n",
    "for i in lista_maiores:\n",
    "    c += 1\n",
    "    print('O valor total de compra de ' + i + ' é igual a R$' + str(round(maiores['Valor'][maiores.Login == i].sum(),2)))\n",
    "    tabela[c].append(str(round(maiores['Valor'][maiores.Login == i].sum(),2)))\n",
    "moda = maiores['Nome do Item'][(purchase_file.Login == lista_maiores[0]) | \\\n",
    "                            (purchase_file.Login == lista_maiores[1]) | \\\n",
    "                            (purchase_file.Login == lista_maiores[2]) | \\\n",
    "                            (purchase_file.Login == lista_maiores[3]) | \\\n",
    "                            (purchase_file.Login == lista_maiores[4])]    \n",
    "#print('O item mais popular é o ' + str(moda.iloc[0]) + '.')\n",
    "print('tabela =',tabela)\n",
    "print('moda = ',moda)\n",
    "um = maiores['Nome do Item'][(purchase_file.Login == lista_maiores[0])].index[0]\n",
    "um = maiores['Nome do Item'][(purchase_file.Login == lista_maiores[0])].iloc[0]\n",
    "print('um =',um)\n",
    "keys = list(sorted_cinco_mais.keys())\n",
    "print(keys)\n",
    "values = list(sorted_cinco_mais.values())\n",
    "print(values)\n",
    "maiores\n",
    "col_names = ['Login','Números de Compras','Preço Médio de Compras','Valor Total de Compras']\n",
    "print(tabulate(tabela, headers=col_names, tablefmt=\"grid\", showindex=\"always\"))\n",
    "\n",
    "\n",
    "\n",
    "# USAR iloc[0] e index[0] para pegar as primeiras ocorrências no pandas!!!!!!!!!!!!!!!!!!!!!!!!!!!!!!!!!!!!!!!!!!!!!!!!!!!!!!!!!!!!!!!!!!!!!!!!"
   ]
  },
  {
   "cell_type": "markdown",
   "metadata": {},
   "source": [
    "## Itens Mais Populares"
   ]
  },
  {
   "cell_type": "code",
   "execution_count": null,
   "metadata": {},
   "outputs": [],
   "source": [
    "# Implemente aqui sua solução\n",
    "def maiores_ID(df,numero = 5):\n",
    "    mais_itens = [] ; sem_moda = df\n",
    "    for i in range(numero):\n",
    "        moda = sem_moda['Item ID'].mode()\n",
    "        maior_item = moda.iloc[0]\n",
    "        mais_itens.append(maior_item)\n",
    "        sem_moda = sem_moda[(sem_moda['Item ID'] != maior_item)]\n",
    "    return mais_itens\n",
    "bigger_ID = maiores_ID(purchase_file)\n",
    "print(bigger_ID)\n",
    "\n",
    "def maiores_itens(df,numero = 5):\n",
    "    mais_itens = [] ; sem_moda = df\n",
    "    for i in range(numero):\n",
    "        moda = sem_moda['Nome do Item'].mode()\n",
    "        maior_item = str(moda.iloc[0])\n",
    "        mais_itens.append(maior_item)\n",
    "        sem_moda = sem_moda[(sem_moda['Nome do Item'] != maior_item)]\n",
    "    return mais_itens\n",
    "bigger_items = maiores_itens(purchase_file)\n",
    "print(bigger_items)\n",
    "\n",
    "#Número de compras\n",
    "for it in bigger_items:\n",
    "    print('O número compras do item ' + it + ' é',purchase_file['Nome do Item'][purchase_file['Nome do Item'] == it].count())\n",
    "\n",
    "# Preço do Item\n",
    "for it in bigger_items:\n",
    "    print('O preço do item ' + it + ' é',purchase_file['Valor'][purchase_file['Nome do Item'] == it])\n",
    "    \n",
    "# Valor total de compras\n",
    "for it in bigger_items:\n",
    "    print('O valor total de compras do item ' + it + ' é',purchase_file['Valor'][purchase_file['Nome do Item'] == it].sum())"
   ]
  },
  {
   "cell_type": "markdown",
   "metadata": {},
   "source": [
    "## Itens Mais Lucrativos"
   ]
  },
  {
   "cell_type": "code",
   "execution_count": null,
   "metadata": {},
   "outputs": [],
   "source": [
    "purchase_file.head()"
   ]
  },
  {
   "cell_type": "code",
   "execution_count": null,
   "metadata": {},
   "outputs": [],
   "source": [
    "# Implemente aqui sua solução\n",
    "# ** Identifique os 5 itens mais lucrativos pelo valor total de compra e, em seguida, liste (em uma tabela): **\n",
    "items = purchase_file['Nome do Item'].unique() ; cinco_mais = {}\n",
    "for c in items:\n",
    "    valor_total = round(purchase_file['Valor'][(purchase_file['Nome do Item'] == c)].sum(),2)\n",
    "    # print(str(i) + ' - O consumidor cujo login é ' + c + ' gastou no total R$' + str(valor_total))\n",
    "    if len(cinco_mais) < 5: cinco_mais[c] = valor_total ; continue\n",
    "    #print('Valor Total =',valor_total)\n",
    "    for ci in cinco_mais:\n",
    "        #print('sorted =',cinco_mais[ci])\n",
    "        if valor_total > cinco_mais[ci]:\n",
    "            cinco_mais[c] = valor_total\n",
    "            pop = cinco_mais.pop(min(cinco_mais, key=cinco_mais.get))\n",
    "            break\n",
    "    #print(cinco_mais)\n",
    "sorted_cinco_mais = dict(sorted(cinco_mais.items(), key=operator.itemgetter(1),reverse = True))\n",
    "print('Final =',sorted_cinco_mais)\n",
    "li = sorted_cinco_mais.items()\n",
    "print(li)\n",
    "li_values = sorted_cinco_mais.values()\n",
    "print(li_values)\n",
    "li_keys = sorted_cinco_mais.keys()\n",
    "print(li_keys)\n",
    "li_keys = list(li_keys)\n",
    "print(li_keys)\n",
    "# Criar outro DataFrame para as listas\n",
    "# ID do item\n",
    "Item_ID = []\n",
    "count = -1\n",
    "for l in li_keys:\n",
    "    for i in purchase_file['Nome do Item']:\n",
    "        count += 1\n",
    "        if i == l:\n",
    "            Item_ID.append(purchase_file['Item ID'][count])\n",
    "            break\n",
    "print('\\nO ID de cada um dos cinco maiores items é:',Item_ID)\n",
    "# Nome do item\n",
    "print('\\nNomes')\n",
    "li_keys = list(li_keys)\n",
    "print(li_keys)\n",
    "# Número de compras\n",
    "print('\\nNúmero de Compras')\n",
    "for k in li_keys:\n",
    "    n_compras = purchase_file['Login'][(purchase_file['Nome do Item'] == k)].count()\n",
    "    print(n_compras)\n",
    "# Preço do item\n",
    "price = []\n",
    "count = -1\n",
    "for l in li_keys:\n",
    "    for i in purchase_file['Nome do Item']:\n",
    "        count += 1\n",
    "        if i == l:\n",
    "            price.append(purchase_file['Valor'][count])\n",
    "            break\n",
    "for p in range(len(price)):\n",
    "    price[p] = round(price[p],2)\n",
    "print('\\nO preço de cada um dos cinco maiores items é:',price)\n",
    "# Valor Total de Compra\n",
    "print('\\nValor Total de Compra')\n",
    "for k in li_keys:\n",
    "    n_compras = round(purchase_file['Valor'][(purchase_file['Nome do Item'] == k)].sum(),2)\n",
    "    print(n_compras)"
   ]
  },
  {
   "cell_type": "markdown",
   "metadata": {
    "collapsed": true
   },
   "source": [
    "## Fim"
   ]
  },
  {
   "cell_type": "markdown",
   "metadata": {
    "collapsed": true
   },
   "source": [
    "\n",
    "### Obrigado\n",
    "\n",
    "### Visite o Blog da Data Science Academy - <a href=\"http://blog.dsacademy.com.br\">Blog DSA</a>\n"
   ]
  }
 ],
 "metadata": {
  "kernelspec": {
   "display_name": "Python 3 (ipykernel)",
   "language": "python",
   "name": "python3"
  },
  "language_info": {
   "codemirror_mode": {
    "name": "ipython",
    "version": 3
   },
   "file_extension": ".py",
   "mimetype": "text/x-python",
   "name": "python",
   "nbconvert_exporter": "python",
   "pygments_lexer": "ipython3",
   "version": "3.9.12"
  },
  "varInspector": {
   "cols": {
    "lenName": 16,
    "lenType": 16,
    "lenVar": 40
   },
   "kernels_config": {
    "python": {
     "delete_cmd_postfix": "",
     "delete_cmd_prefix": "del ",
     "library": "var_list.py",
     "varRefreshCmd": "print(var_dic_list())"
    },
    "r": {
     "delete_cmd_postfix": ") ",
     "delete_cmd_prefix": "rm(",
     "library": "var_list.r",
     "varRefreshCmd": "cat(var_dic_list()) "
    }
   },
   "types_to_exclude": [
    "module",
    "function",
    "builtin_function_or_method",
    "instance",
    "_Feature"
   ],
   "window_display": false
  }
 },
 "nbformat": 4,
 "nbformat_minor": 2
}
