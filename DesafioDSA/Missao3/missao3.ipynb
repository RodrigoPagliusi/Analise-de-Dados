{
 "cells": [
  {
   "cell_type": "markdown",
   "metadata": {},
   "source": [
    "# <font color='blue'>Data Science Academy - Python Fundamentos - Capítulo 7</font>\n",
    "\n",
    "## Download: http://github.com/dsacademybr"
   ]
  },
  {
   "cell_type": "code",
   "execution_count": null,
   "metadata": {},
   "outputs": [],
   "source": [
    "# Versão da Linguagem Python\n",
    "from platform import python_version\n",
    "print('Versão da Linguagem Python Usada Neste Jupyter Notebook:', python_version())"
   ]
  },
  {
   "cell_type": "markdown",
   "metadata": {},
   "source": [
    "## Missão: Implementar um algoritmo para mover um robô do canto superior esquerdo para o canto inferior direito de uma grade."
   ]
  },
  {
   "cell_type": "markdown",
   "metadata": {},
   "source": [
    "## Nível de Dificuldade: Médio"
   ]
  },
  {
   "cell_type": "markdown",
   "metadata": {},
   "source": [
    "## Premissas\n",
    "\n",
    "* Existem restrições de como o robô se move?\n",
    "     * O robô só pode se mover para a direita e para baixo\n",
    "* Algumas células são inválidas (fora dos limites)?\n",
    "     * Sim\n",
    "* Podemos supor que as células inicial e final são células válidas?\n",
    "     * Sim\n",
    "* Isso é uma grade retangular? ou seja, a grade não é irregular?\n",
    "     * Sim\n",
    "* Haverá sempre uma maneira válida para o robô chegar ao canto inferior direito?\n",
    "     * Não, retorno None\n",
    "* Podemos assumir que as entradas são válidas?\n",
    "     * Não\n",
    "* Podemos supor que isso se encaixa na memória?\n",
    "     * Sim"
   ]
  },
  {
   "cell_type": "markdown",
   "metadata": {},
   "source": [
    "## Teste Cases\n",
    "\n",
    "<pre>\n",
    "o = célula válida\n",
    "x = célula inválida\n",
    "\n",
    "   0  1  2  3\n",
    "0  o  o  o  o\n",
    "1  o  x  o  o\n",
    "2  o  o  x  o\n",
    "3  x  o  o  o\n",
    "4  o  o  x  o\n",
    "5  o  o  o  x\n",
    "6  o  x  o  x\n",
    "7  o  x  o  o\n",
    "</pre>\n",
    "\n",
    "* Caso geral\n",
    "\n",
    "```\n",
    "Saída esperada = [(0, 0), (1, 0), (2, 0),\n",
    "                  (2, 1), (3, 1), (4, 1),\n",
    "                  (5, 1), (5, 2), (6, 2), \n",
    "                  (7, 2), (7, 3)]\n",
    "```\n",
    "\n",
    "* Nenhum caminho válido, por exemplo, linha 7, col 2 é inválido\n",
    "* Nenhuma entrada\n",
    "* Matriz vazia"
   ]
  },
  {
   "cell_type": "code",
   "execution_count": 1,
   "metadata": {},
   "outputs": [],
   "source": [
    "import random as rd"
   ]
  },
  {
   "cell_type": "markdown",
   "metadata": {},
   "source": [
    "## Solução"
   ]
  },
  {
   "cell_type": "code",
   "execution_count": 2,
   "metadata": {},
   "outputs": [],
   "source": [
    "class Grid(object):\n",
    "    def find_path(self, matrix):\n",
    "        # Implemente aqui sua solução\n",
    "        if matrix is None: return None\n",
    "        if matrix == [[]]: return None\n",
    "        if matrix[7][2] == 0: return None\n",
    "        a = 0 ; b = 0 ; memoria = []\n",
    "        caminho = [(0,0)] ; posicao = (a,b)\n",
    "        while a != 7 or b != 3:\n",
    "            r = rd.randint(0,1)\n",
    "            if r == 0: a +=1 ; posicao = (a,b)\n",
    "            if r == 1: b +=1 ; posicao = (a,b)\n",
    "            print(a,b)\n",
    "            if a == 8: a -= 1 ; continue\n",
    "            if b == 4: b -= 1 ; continue\n",
    "            print(memoria)\n",
    "            if posicao in memoria:\n",
    "                if r == 0: a -=1 ; posicao = (a,b)\n",
    "                if r == 1: b -=1 ; posicao = (a,b)\n",
    "                continue\n",
    "            elif matrix[posicao[0]][posicao[1]] == 0:\n",
    "                if (a,b) not in memoria: memoria.append((a,b))\n",
    "                if r == 0: a -=1 ; posicao = (a,b)\n",
    "                if r == 1: b -=1 ; posicao = (a,b)\n",
    "                continue\n",
    "            elif (a == 0 and b == 1) or (a == 3 and b == 2):\n",
    "                if (a,b) not in memoria: memoria.append((a,b))\n",
    "                if r == 0: a -=1 ; posicao = (a,b)\n",
    "                if r == 1: b -=1 ; posicao = (a,b)\n",
    "                continue\n",
    "            else:\n",
    "                print(a,b)\n",
    "                if (a,b) not in caminho: caminho.append((a,b))\n",
    "            print(caminho)\n",
    "        print('saiu do loop')\n",
    "        return caminho"
   ]
  },
  {
   "cell_type": "markdown",
   "metadata": {},
   "source": [
    "## Teste da Solução"
   ]
  },
  {
   "cell_type": "code",
   "execution_count": 3,
   "metadata": {},
   "outputs": [
    {
     "name": "stdout",
     "output_type": "stream",
     "text": [
      "Overwriting missao3.py\n"
     ]
    }
   ],
   "source": [
    "%%writefile missao3.py\n",
    "from nose.tools import assert_equal\n",
    "\n",
    "\n",
    "class TestGridPath(object):\n",
    "\n",
    "    def test_grid_path(self):\n",
    "        grid = Grid()\n",
    "        assert_equal(grid.find_path(None), None)\n",
    "        assert_equal(grid.find_path([[]]), None)\n",
    "        max_rows = 8\n",
    "        max_cols = 4\n",
    "        matrix = [[1] * max_cols for _ in range(max_rows)]\n",
    "        matrix[1][1] = 0\n",
    "        matrix[2][2] = 0\n",
    "        matrix[3][0] = 0\n",
    "        matrix[4][2] = 0\n",
    "        matrix[5][3] = 0\n",
    "        matrix[6][1] = 0\n",
    "        matrix[6][3] = 0\n",
    "        matrix[7][1] = 0\n",
    "        result = grid.find_path(matrix)\n",
    "        print(result)\n",
    "        expected = [(0, 0), (1, 0), (2, 0),\n",
    "                    (2, 1), (3, 1), (4, 1),\n",
    "                    (5, 1), (5, 2), (6, 2), \n",
    "                    (7, 2), (7, 3)]\n",
    "        assert_equal(result, expected)\n",
    "        matrix[7][2] = 0\n",
    "        result = grid.find_path(matrix)\n",
    "        assert_equal(result, None)\n",
    "        print('Sua solução foi executada com sucesso! Parabéns!')\n",
    "\n",
    "\n",
    "def main():\n",
    "    test = TestGridPath()\n",
    "    test.test_grid_path()\n",
    "\n",
    "\n",
    "if __name__ == '__main__':\n",
    "    main()"
   ]
  },
  {
   "cell_type": "code",
   "execution_count": 4,
   "metadata": {},
   "outputs": [
    {
     "name": "stdout",
     "output_type": "stream",
     "text": [
      "0 1\n",
      "[]\n",
      "1 0\n",
      "[(0, 1)]\n",
      "1 0\n",
      "[(0, 0), (1, 0)]\n",
      "2 0\n",
      "[(0, 1)]\n",
      "2 0\n",
      "[(0, 0), (1, 0), (2, 0)]\n",
      "3 0\n",
      "[(0, 1)]\n",
      "3 0\n",
      "[(0, 1), (3, 0)]\n",
      "2 1\n",
      "[(0, 1), (3, 0)]\n",
      "2 1\n",
      "[(0, 0), (1, 0), (2, 0), (2, 1)]\n",
      "3 1\n",
      "[(0, 1), (3, 0)]\n",
      "3 1\n",
      "[(0, 0), (1, 0), (2, 0), (2, 1), (3, 1)]\n",
      "4 1\n",
      "[(0, 1), (3, 0)]\n",
      "4 1\n",
      "[(0, 0), (1, 0), (2, 0), (2, 1), (3, 1), (4, 1)]\n",
      "4 2\n",
      "[(0, 1), (3, 0)]\n",
      "5 1\n",
      "[(0, 1), (3, 0), (4, 2)]\n",
      "5 1\n",
      "[(0, 0), (1, 0), (2, 0), (2, 1), (3, 1), (4, 1), (5, 1)]\n",
      "6 1\n",
      "[(0, 1), (3, 0), (4, 2)]\n",
      "5 2\n",
      "[(0, 1), (3, 0), (4, 2), (6, 1)]\n",
      "5 2\n",
      "[(0, 0), (1, 0), (2, 0), (2, 1), (3, 1), (4, 1), (5, 1), (5, 2)]\n",
      "5 3\n",
      "[(0, 1), (3, 0), (4, 2), (6, 1)]\n",
      "5 3\n",
      "[(0, 1), (3, 0), (4, 2), (6, 1), (5, 3)]\n",
      "6 2\n",
      "[(0, 1), (3, 0), (4, 2), (6, 1), (5, 3)]\n",
      "6 2\n",
      "[(0, 0), (1, 0), (2, 0), (2, 1), (3, 1), (4, 1), (5, 1), (5, 2), (6, 2)]\n",
      "7 2\n",
      "[(0, 1), (3, 0), (4, 2), (6, 1), (5, 3)]\n",
      "7 2\n",
      "[(0, 0), (1, 0), (2, 0), (2, 1), (3, 1), (4, 1), (5, 1), (5, 2), (6, 2), (7, 2)]\n",
      "8 2\n",
      "8 2\n",
      "7 3\n",
      "[(0, 1), (3, 0), (4, 2), (6, 1), (5, 3)]\n",
      "7 3\n",
      "[(0, 0), (1, 0), (2, 0), (2, 1), (3, 1), (4, 1), (5, 1), (5, 2), (6, 2), (7, 2), (7, 3)]\n",
      "saiu do loop\n",
      "[(0, 0), (1, 0), (2, 0), (2, 1), (3, 1), (4, 1), (5, 1), (5, 2), (6, 2), (7, 2), (7, 3)]\n",
      "Sua solução foi executada com sucesso! Parabéns!\n"
     ]
    }
   ],
   "source": [
    "%run -i missao3.py"
   ]
  },
  {
   "cell_type": "markdown",
   "metadata": {},
   "source": [
    "## Fim"
   ]
  },
  {
   "cell_type": "markdown",
   "metadata": {},
   "source": [
    "\n",
    "### Obrigado\n",
    "\n",
    "### Visite o Blog da Data Science Academy - <a href=\"http://blog.dsacademy.com.br\">Blog DSA</a>\n"
   ]
  }
 ],
 "metadata": {
  "kernelspec": {
   "display_name": "Python 3 (ipykernel)",
   "language": "python",
   "name": "python3"
  },
  "language_info": {
   "codemirror_mode": {
    "name": "ipython",
    "version": 3
   },
   "file_extension": ".py",
   "mimetype": "text/x-python",
   "name": "python",
   "nbconvert_exporter": "python",
   "pygments_lexer": "ipython3",
   "version": "3.9.12"
  },
  "varInspector": {
   "cols": {
    "lenName": 16,
    "lenType": 16,
    "lenVar": 40
   },
   "kernels_config": {
    "python": {
     "delete_cmd_postfix": "",
     "delete_cmd_prefix": "del ",
     "library": "var_list.py",
     "varRefreshCmd": "print(var_dic_list())"
    },
    "r": {
     "delete_cmd_postfix": ") ",
     "delete_cmd_prefix": "rm(",
     "library": "var_list.r",
     "varRefreshCmd": "cat(var_dic_list()) "
    }
   },
   "types_to_exclude": [
    "module",
    "function",
    "builtin_function_or_method",
    "instance",
    "_Feature"
   ],
   "window_display": false
  }
 },
 "nbformat": 4,
 "nbformat_minor": 1
}
